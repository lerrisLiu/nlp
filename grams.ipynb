{
 "cells": [
  {
   "cell_type": "code",
   "execution_count": 22,
   "metadata": {},
   "outputs": [],
   "source": [
    "import nltk\n",
    "import re\n",
    "import jieba\n",
    "\n",
    "jieba.load_userdict('define.txt') "
   ]
  },
  {
   "cell_type": "code",
   "execution_count": 38,
   "metadata": {},
   "outputs": [],
   "source": [
    "#stop_words\n",
    "def stopWords(stop_words):\n",
    "    f=open(stop_words).readlines() \n",
    "    stop_words=[i.strip().replace('\\n','') for i in f ]\n",
    "    return stop_words\n",
    "\n",
    "#text cut\n",
    "def split_words(x):\n",
    "    tokens=[word for word in jieba.cut(x) if word not in stop_words and word not in ['\\n',' ']]\n",
    "    return tokens\n",
    "\n",
    "#grams\n",
    "def cal_grams(word_list,n):\n",
    "    grams=nltk.ngrams(word_list,n)\n",
    "    return grams\n",
    "\n",
    "#cal dict\n",
    "def cal_dict(data,n):\n",
    "    d={}\n",
    "    data=open(data,encoding='utf-8').readlines()\n",
    "    for text in data:\n",
    "        word_list=split_words(text)\n",
    "        grams=cal_grams(word_list,n)\n",
    "        try:\n",
    "            for group in grams:\n",
    "                a,b=group[0],''.join(group[1:])\n",
    "                d.setdefault(a,{})\n",
    "                if b not in d[a]:\n",
    "                    d[a][b]=0 \n",
    "                else:\n",
    "                    d[a][b]+=1 \n",
    "        except:\n",
    "            #print('空列表')\n",
    "            continue\n",
    "    return d\n",
    "\n",
    "#word recommend\n",
    "def word_rec(d):\n",
    "    d1={}\n",
    "    for k,w in d.items():\n",
    "        words_sort=sorted(w.items(),key=lambda x:x[1],reverse=True)\n",
    "        words_sort=[word[0] for word in words_sort if word[0] not in ['\\n',' ']][:10]\n",
    "        if len(words_sort)>0:\n",
    "            d1[k]=words_sort\n",
    "    return d1\n"
   ]
  },
  {
   "cell_type": "code",
   "execution_count": 44,
   "metadata": {},
   "outputs": [
    {
     "data": {
      "text/plain": [
       "{'查询': ['寿险分公司', '车险投保'],\n",
       " '寿险': ['分公司电话'],\n",
       " '电子': ['发票打印'],\n",
       " '保单': ['丢补'],\n",
       " '车险': ['投保信息', '报价查询'],\n",
       " '平安': ['车险报价', 'e生保买'],\n",
       " '公司': ['团体商业险'],\n",
       " '团体': ['商业险购买'],\n",
       " '本月': ['保额累计', '上半月保额'],\n",
       " '去年': ['累计天数', '购买人数', '累计保额', '总保单'],\n",
       " '总': ['保单销量']}"
      ]
     },
     "execution_count": 44,
     "metadata": {},
     "output_type": "execute_result"
    }
   ],
   "source": [
    "stop_words=stopWords('stop_words.txt')\n",
    "word_freq=cal_dict('questions.txt',3)\n",
    "word_top=word_rec(word_freq)\n",
    "word_top"
   ]
  },
  {
   "cell_type": "code",
   "execution_count": null,
   "metadata": {},
   "outputs": [],
   "source": []
  }
 ],
 "metadata": {
  "kernelspec": {
   "display_name": "Python 3",
   "language": "python",
   "name": "python3"
  },
  "language_info": {
   "codemirror_mode": {
    "name": "ipython",
    "version": 3
   },
   "file_extension": ".py",
   "mimetype": "text/x-python",
   "name": "python",
   "nbconvert_exporter": "python",
   "pygments_lexer": "ipython3",
   "version": "3.7.0"
  }
 },
 "nbformat": 4,
 "nbformat_minor": 2
}
